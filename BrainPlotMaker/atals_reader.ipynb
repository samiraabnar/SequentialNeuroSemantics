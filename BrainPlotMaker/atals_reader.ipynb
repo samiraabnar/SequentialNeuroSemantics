{
 "cells": [
  {
   "cell_type": "code",
   "execution_count": 2,
   "metadata": {},
   "outputs": [],
   "source": [
    "import numpy as np\n",
    "from nibabel.testing import data_path\n",
    "import nibabel as nib\n",
    "import nilearn\n",
    "from nilearn import plotting\n",
    "from nilearn import image\n",
    "import matplotlib.pyplot as plt\n",
    "import codecs\n",
    "import copy\n",
    "from numpy import ma\n",
    "from matplotlib import cbook\n",
    "from matplotlib.colors import Normalize"
   ]
  },
  {
   "cell_type": "code",
   "execution_count": 3,
   "metadata": {},
   "outputs": [
    {
     "name": "stdout",
     "output_type": "stream",
     "text": [
      "\n",
      "Dataset created in /Users/samiraabnar/nilearn_data/aal_SPM12\n",
      "\n",
      "Downloading data from http://www.gin.cnrs.fr/AAL_files/aal_for_SPM12.tar.gz ...\n"
     ]
    },
    {
     "name": "stderr",
     "output_type": "stream",
     "text": [
      "Downloaded 351343 of 351343 bytes (100.0%,    0.0s remaining) ...done. (9 seconds, 0 min)\n",
      "Extracting data from /Users/samiraabnar/nilearn_data/aal_SPM12/a2fc9a441ebe10d638e4a74b1d3c1dac/aal_for_SPM12.tar.gz..... done.\n"
     ]
    }
   ],
   "source": [
    "# Loading information of the AAL atlas with with nilearn\n",
    "out = nilearn.datasets.fetch_atlas_aal(version='SPM12', data_dir=None, url=None, resume=True, verbose=1)\n",
    "indices = out['indices']\n",
    "labels = out['labels']\n",
    "AAL_region = dict(zip(labels, indices))\n",
    "\n",
    "# Laading AAL atlas to manupulate it and build a new nifti image\n",
    "AAL_img = nib.load(\"AAL.nii\")\n",
    "AAL_data =  AAL_img.get_data()\n",
    "AAL_affine = AAL_img.affine\n",
    "\n",
    "# dt = AAL_data.dtype\n",
    "# dt.name\n",
    "# AAL_data.shape"
   ]
  },
  {
   "cell_type": "code",
   "execution_count": 4,
   "metadata": {
    "collapsed": true
   },
   "outputs": [],
   "source": [
    "def smooth_ploter(data):\n",
    "  # First the compute the mean image, from the 4D series of image\n",
    "  mean_func = image.mean_img(data)\n",
    "  for smoothing in range(0, 25, 5):\n",
    "      smoothed_img = image.smooth_img(mean_func, smoothing)\n",
    "#       plotting.plot_epi(smoothed_img)\n",
    "      plotting.plot_glass_brain(smoothed_img,\n",
    "                                display_mode='lyrz',\n",
    "                                colorbar=True, \n",
    "                                title=\"Smoothing %imm\" % smoothing)"
   ]
  },
  {
   "cell_type": "code",
   "execution_count": 5,
   "metadata": {
    "scrolled": false
   },
   "outputs": [
    {
     "data": {
      "text/plain": [
       "<nilearn.plotting.displays.LYRZProjector at 0x1134ca4e0>"
      ]
     },
     "execution_count": 5,
     "metadata": {},
     "output_type": "execute_result"
    }
   ],
   "source": [
    "# Check all these ways of visualization: http://nilearn.github.io/plotting/index.html#different-plotting-functions\n",
    "# plotting atlas map\n",
    "plotting.plot_glass_brain(AAL_img, colorbar=True, display_mode='lyrz',)"
   ]
  },
  {
   "cell_type": "code",
   "execution_count": 6,
   "metadata": {},
   "outputs": [
    {
     "data": {
      "text/plain": [
       "<nilearn.plotting.displays.OrthoSlicer at 0x10352b7b8>"
      ]
     },
     "execution_count": 6,
     "metadata": {},
     "output_type": "execute_result"
    }
   ],
   "source": [
    "plotting.plot_roi(AAL_img, colorbar=True)"
   ]
  },
  {
   "cell_type": "code",
   "execution_count": 7,
   "metadata": {},
   "outputs": [
    {
     "data": {
      "text/plain": [
       "<nilearn.plotting.displays.OrthoSlicer at 0x112be13c8>"
      ]
     },
     "execution_count": 7,
     "metadata": {},
     "output_type": "execute_result"
    }
   ],
   "source": [
    "plotting.plot_anat(AAL_img, colorbar=True)"
   ]
  },
  {
   "cell_type": "code",
   "execution_count": 8,
   "metadata": {},
   "outputs": [
    {
     "data": {
      "text/plain": [
       "<nilearn.plotting.displays.OrthoSlicer at 0x1130a22e8>"
      ]
     },
     "execution_count": 8,
     "metadata": {},
     "output_type": "execute_result"
    }
   ],
   "source": [
    "plotting.plot_epi(AAL_img, colorbar=True)"
   ]
  },
  {
   "cell_type": "code",
   "execution_count": 9,
   "metadata": {},
   "outputs": [
    {
     "data": {
      "text/plain": [
       "<nilearn.plotting.displays.OrthoSlicer at 0x1133412e8>"
      ]
     },
     "execution_count": 9,
     "metadata": {},
     "output_type": "execute_result"
    }
   ],
   "source": [
    "plotting.plot_stat_map(AAL_img, colorbar=True)"
   ]
  },
  {
   "cell_type": "code",
   "execution_count": 10,
   "metadata": {},
   "outputs": [
    {
     "data": {
      "text/plain": [
       "<nilearn.plotting.displays.OrthoSlicer at 0x114b28c18>"
      ]
     },
     "execution_count": 10,
     "metadata": {},
     "output_type": "execute_result"
    }
   ],
   "source": [
    "plotting.plot_img(AAL_img, colorbar=True)"
   ]
  },
  {
   "cell_type": "code",
   "execution_count": 11,
   "metadata": {},
   "outputs": [
    {
     "name": "stderr",
     "output_type": "stream",
     "text": [
      "/anaconda/lib/python3.6/site-packages/nilearn/image/image.py:192: UserWarning: The parameter 'fwhm' for smoothing is specified as 0. Converting to None (no smoothing option)\n",
      "  .format(fwhm))\n"
     ]
    }
   ],
   "source": [
    "smooth_ploter(AAL_img)"
   ]
  },
  {
   "cell_type": "code",
   "execution_count": 12,
   "metadata": {},
   "outputs": [],
   "source": [
    "# brain region map based on the atlas\n",
    "display = plotting.plot_glass_brain(None)\n",
    "display.add_contours(AAL_img, \n",
    "#                      colors='black'\n",
    "                    )"
   ]
  },
  {
   "cell_type": "code",
   "execution_count": null,
   "metadata": {
    "collapsed": true
   },
   "outputs": [],
   "source": []
  }
 ],
 "metadata": {
  "kernelspec": {
   "display_name": "Python [default]",
   "language": "python",
   "name": "python3"
  },
  "language_info": {
   "codemirror_mode": {
    "name": "ipython",
    "version": 3
   },
   "file_extension": ".py",
   "mimetype": "text/x-python",
   "name": "python",
   "nbconvert_exporter": "python",
   "pygments_lexer": "ipython3",
   "version": "3.6.2"
  },
  "latex_envs": {
   "bibliofile": "biblio.bib",
   "cite_by": "apalike",
   "current_citInitial": 1,
   "eqLabelWithNumbers": true,
   "eqNumInitial": 0
  }
 },
 "nbformat": 4,
 "nbformat_minor": 2
}
