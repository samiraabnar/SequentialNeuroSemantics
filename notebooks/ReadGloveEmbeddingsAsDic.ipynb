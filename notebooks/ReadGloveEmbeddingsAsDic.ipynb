{
 "cells": [
  {
   "cell_type": "code",
   "execution_count": null,
   "metadata": {},
   "outputs": [],
   "source": [
    "import tensorflow as tf\n",
    "glove_file = \"../embeddings/glove.6B.300d.txt\"\n",
    "\n",
    "with tf.gfile.Open(glove_file,\"r\") as gf:\n",
    "    lines = gf.readlines()\n",
    "    "
   ]
  },
  {
   "cell_type": "code",
   "execution_count": null,
   "metadata": {},
   "outputs": [],
   "source": [
    "word = lines[0].split()[0]\n",
    "vector = np.asarray(lines[0].split()[1:],dtype=np.float32)\n",
    "print(word)\n",
    "print(vector)\n",
    "\n",
    "glove_embedding_dic = {}\n",
    "for line in lines:\n",
    "    word = line.split()[0]\n",
    "    vector = np.asarray(line.split()[1:],dtype=np.float32)\n",
    "    glove_embedding_dic[word] = vector"
   ]
  },
  {
   "cell_type": "code",
   "execution_count": null,
   "metadata": {},
   "outputs": [],
   "source": [
    "np.save(\"../embeddings/glove_word_embedding_dic.npy\",glove_embedding_dic)"
   ]
  }
 ],
 "metadata": {
  "kernelspec": {
   "display_name": "Python [default]",
   "language": "python",
   "name": "python3"
  },
  "language_info": {
   "codemirror_mode": {
    "name": "ipython",
    "version": 3
   },
   "file_extension": ".py",
   "mimetype": "text/x-python",
   "name": "python",
   "nbconvert_exporter": "python",
   "pygments_lexer": "ipython3",
   "version": "3.6.5"
  },
  "latex_envs": {
   "bibliofile": "biblio.bib",
   "cite_by": "apalike",
   "current_citInitial": 1,
   "eqLabelWithNumbers": true,
   "eqNumInitial": 0
  }
 },
 "nbformat": 4,
 "nbformat_minor": 2
}
