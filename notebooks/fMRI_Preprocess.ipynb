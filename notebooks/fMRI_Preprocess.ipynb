{
 "cells": [
  {
   "cell_type": "code",
   "execution_count": 11,
   "metadata": {
    "collapsed": true
   },
   "outputs": [],
   "source": [
    "import os\n",
    "\n",
    "import numpy as np\n",
    "import matplotlib.pyplot as plt\n",
    "from matplotlib.mlab import csv2rec\n",
    "import scipy.io\n"
   ]
  },
  {
   "cell_type": "code",
   "execution_count": 12,
   "metadata": {},
   "outputs": [],
   "source": [
    "import nitime\n",
    "\n",
    "# Import the time-series objects:\n",
    "from nitime.timeseries import TimeSeries\n",
    "\n",
    "# Import the analysis objects:\n",
    "from nitime.analysis import SpectralAnalyzer, FilterAnalyzer, NormalizationAnalyzer"
   ]
  },
  {
   "cell_type": "code",
   "execution_count": 13,
   "metadata": {
    "collapsed": true
   },
   "outputs": [],
   "source": [
    "class Scan(object):\n",
    "    def __init__(self,activations,timestamp, step,prev_words=None,next_words=None,all_words=None,all_pos=None):\n",
    "        self.activations = activations\n",
    "        self.timestamp = timestamp\n",
    "        self.prev_words = prev_words\n",
    "        self.next_words = next_words\n",
    "        self.step = step\n",
    "        self.all_words = all_words\n",
    "        self.all_pos = all_pos\n",
    "        self.brain3d = None"
   ]
  },
  {
   "cell_type": "code",
   "execution_count": 15,
   "metadata": {},
   "outputs": [],
   "source": [
    "subject_id = \"1\"\n",
    "subject_file = scipy.io.loadmat('../data/subject_'+subject_id+'.mat') "
   ]
  },
  {
   "cell_type": "code",
   "execution_count": 23,
   "metadata": {},
   "outputs": [],
   "source": [
    "TR = 2.0\n",
    "T = TimeSeries(subject_file['data'], sampling_interval=TR)"
   ]
  },
  {
   "cell_type": "code",
   "execution_count": 24,
   "metadata": {
    "collapsed": true
   },
   "outputs": [],
   "source": [
    "S_original = SpectralAnalyzer(T)\n",
    "\n",
    "# Initialize a figure to put the results into:\n",
    "fig01 = plt.figure()\n",
    "ax01 = fig01.add_subplot(1, 1, 1)"
   ]
  },
  {
   "cell_type": "code",
   "execution_count": null,
   "metadata": {},
   "outputs": [
    {
     "name": "stderr",
     "output_type": "stream",
     "text": [
      "/anaconda/lib/python3.6/site-packages/nitime/utils.py:980: FutureWarning: Conversion of the second argument of issubdtype from `complex` to `np.complexfloating` is deprecated. In future, it will be treated as `np.complex128 == np.dtype(complex).type`.\n",
      "  complex_result = (np.issubdtype(in1.dtype, np.complex) or\n",
      "/anaconda/lib/python3.6/site-packages/nitime/utils.py:981: FutureWarning: Conversion of the second argument of issubdtype from `complex` to `np.complexfloating` is deprecated. In future, it will be treated as `np.complex128 == np.dtype(complex).type`.\n",
      "  np.issubdtype(in2.dtype, np.complex))\n"
     ]
    }
   ],
   "source": [
    "ax01.plot(S_original.psd[0],\n",
    "          S_original.psd[1][9],\n",
    "          label='Welch PSD')\n",
    "\n",
    "ax01.plot(S_original.spectrum_fourier[0],\n",
    "          np.abs(S_original.spectrum_fourier[1][9]),\n",
    "          label='FFT')\n",
    "\n",
    "ax01.plot(S_original.periodogram[0],\n",
    "          S_original.periodogram[1][9],\n",
    "          label='Periodogram')\n",
    "\n",
    "ax01.plot(S_original.spectrum_multi_taper[0],\n",
    "          S_original.spectrum_multi_taper[1][9],\n",
    "          label='Multi-taper')\n",
    "\n",
    "ax01.set_xlabel('Frequency (Hz)')\n",
    "ax01.set_ylabel('Power')\n",
    "\n",
    "ax01.legend()"
   ]
  },
  {
   "cell_type": "code",
   "execution_count": null,
   "metadata": {
    "collapsed": true
   },
   "outputs": [],
   "source": []
  }
 ],
 "metadata": {
  "anaconda-cloud": {},
  "kernelspec": {
   "display_name": "Python [default]",
   "language": "python",
   "name": "python3"
  },
  "language_info": {
   "codemirror_mode": {
    "name": "ipython",
    "version": 3
   },
   "file_extension": ".py",
   "mimetype": "text/x-python",
   "name": "python",
   "nbconvert_exporter": "python",
   "pygments_lexer": "ipython3",
   "version": "3.6.2"
  },
  "latex_envs": {
   "bibliofile": "biblio.bib",
   "cite_by": "apalike",
   "current_citInitial": 1,
   "eqLabelWithNumbers": true,
   "eqNumInitial": 0
  }
 },
 "nbformat": 4,
 "nbformat_minor": 2
}
