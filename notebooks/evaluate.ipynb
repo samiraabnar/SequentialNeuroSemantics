{
 "cells": [
  {
   "cell_type": "code",
   "execution_count": 5,
   "metadata": {},
   "outputs": [],
   "source": [
    "import numpy as np\n",
    "import string \n",
    "import scipy.io\n",
    "from sklearn.metrics import mean_squared_error\n",
    "from scipy.spatial import distance\n",
    "import itertools\n",
    "\n",
    "import plotly.plotly as py\n",
    "import plotly.graph_objs as go\n",
    "from plotly.tools import FigureFactory as FF\n",
    "\n",
    "import numpy as np\n",
    "import pandas as pd\n",
    "import scipy\n",
    "\n",
    "from sklearn.metrics import explained_variance_score"
   ]
  },
  {
   "cell_type": "code",
   "execution_count": 23,
   "metadata": {},
   "outputs": [],
   "source": [
    "subject_id = 1\n",
    "\n",
    "predicted = {}\n",
    "target = {}\n",
    "words = {}\n",
    "label = \"test\"\n",
    "\n",
    "predicted['glove_10'] = np.load(\"../log_root_cart_sub1/subject_1/word2brain/glove_linear/10/L2_DropIn8H5_wt/predicted_output_\"+label+\".npy\")[0]\n",
    "target['glove_10'] = np.load(\"../log_root_cart_sub1/subject_1/word2brain/glove_linear/10/L2_DropIn8H5_wt/target_output_\"+label+\".npy\")\n",
    "\n",
    "model = 'glove_10'\n",
    "cosine_dists = distance.cdist(predicted[model],target[model],'cosine')\n",
    "euc_dists =  distance.cdist(predicted[model],target[model],'euclidean')\n",
    "\n",
    "predicted['contextual_01'] = np.load(\"../log_root_cart_sub1/word2brain/contextual_01_avg/intended/L2_DropIn8H5/predicted_output_\"+label+\".npy\")\n",
    "target['contextual_01'] = np.load(\"../log_root_cart_sub1/word2brain/contextual_01_avg/intended/L2_DropIn8H5/target_output_\"+label+\".npy\")\n",
    "words['contextual_01'] = np.load(\"../log_root_cart_sub1/word2brain/contextual_01_avg/intended/L2_DropIn8H5/words_\"+label+\".npy\")\n",
    "\n",
    "model = 'contextual_01'\n",
    "cosine_dists = distance.cdist(predicted[model],target[model],'cosine')\n",
    "euc_dists =  distance.cdist(predicted[model],target[model],'euclidean')"
   ]
  },
  {
   "cell_type": "code",
   "execution_count": 24,
   "metadata": {},
   "outputs": [
    {
     "name": "stdout",
     "output_type": "stream",
     "text": [
      "(361, 37913)\n",
      "(361, 37913)\n",
      "explained variance for glove: -0.023592206012628666\n",
      "explained variance for contextual_01: -0.009012451649176356\n",
      "[-0.84475558 -0.35724334 -0.33790614 ...  0.10665233  0.11173675\n",
      "  0.15551066]\n"
     ]
    }
   ],
   "source": [
    "print(predicted['glove_10'].shape)\n",
    "print(target['glove_10'].shape)\n",
    "\n",
    "print(\"explained variance for glove:\",explained_variance_score(target['glove_10'], predicted['glove_10'],multioutput='uniform_average'))\n",
    "print(\"explained variance for contextual_01:\",explained_variance_score(target['contextual_01'], predicted['contextual_01'],multioutput='uniform_average'))\n",
    "\n",
    "explained_variances = {}\n",
    "explained_variances['glove_10'] = explained_variance_score(target['glove_10'], predicted['glove_10'],multioutput='raw_values')\n",
    "explained_variances['contextual_01'] = explained_variance_score(target['contextual_01'], predicted['contextual_01'],multioutput='raw_values')\n",
    "\n",
    "best_indexes={}\n",
    "best_indexes['glove_10'] = np.argsort(explained_variances['glove_10'])\n",
    "best_indexes['contextual_01'] = np.argsort(explained_variances['contextual_01'])\n",
    "\n",
    "print(explained_variances['glove_10'][best_indexes['glove_10']])\n"
   ]
  },
  {
   "cell_type": "code",
   "execution_count": 25,
   "metadata": {},
   "outputs": [
    {
     "name": "stdout",
     "output_type": "stream",
     "text": [
      "max explained variance for contextual_01: 0.4131956343778881\n",
      "max explained variance for glove_10: 0.15551065980349554\n",
      "min explained variance for contextual_01: -3.629754379279852\n",
      "min explained variance for glove_10: -0.8447555810541363\n"
     ]
    }
   ],
   "source": [
    "print(\"max explained variance for contextual_01:\",\n",
    "      np.max(explained_variance_score(target['contextual_01'], predicted['contextual_01'],multioutput='raw_values')))\n",
    "\n",
    "print(\"max explained variance for glove_10:\",\n",
    "      np.max(explained_variance_score(target['glove_10'], predicted['glove_10'],multioutput='raw_values')))\n",
    "\n",
    "print(\"min explained variance for contextual_01:\",\n",
    "      np.min(explained_variance_score(target['contextual_01'], predicted['contextual_01'],multioutput='raw_values')))\n",
    "\n",
    "print(\"min explained variance for glove_10:\",\n",
    "      np.min(explained_variance_score(target['glove_10'], predicted['glove_10'],multioutput='raw_values')))\n"
   ]
  },
  {
   "cell_type": "code",
   "execution_count": null,
   "metadata": {},
   "outputs": [],
   "source": [
    "sorted_indexes = np.argsort(euc_dists,axis=1)"
   ]
  },
  {
   "cell_type": "code",
   "execution_count": null,
   "metadata": {},
   "outputs": [],
   "source": [
    "prec_at_corrects = []\n",
    "ranks = []\n",
    "\n",
    "for i in np.arange(len(predicted['glove_10'])):\n",
    "    print(i)\n",
    "    correct_at = np.where(sorted_indexes[i] == i)[0] + 1\n",
    "    print(\"Reciprocal Rank\",correct_at)\n",
    "    prec_at_correct = 1.0/correct_at\n",
    "    print(\"precision at \",correct_at,\": \",prec_at_correct)\n",
    "    prec_at_corrects.append(prec_at_correct)\n",
    "    ranks.append(correct_at)\n",
    "    \n",
    "print(\"MRR: \",np.mean(prec_at_corrects),\" \",np.mean(ranks))"
   ]
  },
  {
   "cell_type": "code",
   "execution_count": null,
   "metadata": {},
   "outputs": [],
   "source": [
    "true_mu = 361 / 2.0\n",
    "\n",
    "onesample_results = scipy.stats.ttest_1samp(ranks, true_mu)\n",
    "print(\"ranks: \", onesample_results)"
   ]
  },
  {
   "cell_type": "code",
   "execution_count": null,
   "metadata": {},
   "outputs": [],
   "source": [
    "def eval(dists,e_dists,model):\n",
    "    nn_index = np.argmin(dists,axis=1)\n",
    "    accuracy_on_test = np.mean(nn_index == np.argmax(np.eye(len(target[model])),axis=1))\n",
    "\n",
    "\n",
    "    b_acc = []\n",
    "    e_b_acc = []\n",
    "    dic = {}\n",
    "    for i,j in itertools.combinations(np.arange(len(target[model])), 2):\n",
    "            dic[i] = []\n",
    "            dic[j] = []\n",
    "\n",
    "        \n",
    "    for i,j in itertools.combinations(np.arange(len(target[model])), 2):\n",
    "        right_match = dists[i,i] + dists[j,j]\n",
    "        wrong_match = dists[i,j] + dists[j,i]\n",
    "        b_acc.append(right_match < wrong_match)\n",
    "\n",
    "        e_right_match = e_dists[i,i] + e_dists[j,j]\n",
    "        e_wrong_match = e_dists[i,j] + e_dists[j,i]\n",
    "        e_b_acc.append(e_right_match < e_wrong_match)\n",
    "        \n",
    "        #print(i,j,b_acc)\n",
    "        dic[i].append(right_match < wrong_match)\n",
    "        dic[j].append(right_match < wrong_match)\n",
    "        \n",
    "\n",
    "    #print(\"binary accuracy: \", np.mean(b_acc),\" \", np.mean(e_b_acc))\n",
    "    return np.mean(b_acc),np.mean(e_b_acc),b_acc,e_b_acc,dic"
   ]
  },
  {
   "cell_type": "code",
   "execution_count": null,
   "metadata": {},
   "outputs": [],
   "source": [
    "mean_b_acc, mean_e_b_acc,b_acc, e_b_acc = eval(cosine_dists,euc_dists,model)\n",
    "number_of_trues = len(np.where(np.asarray(b_acc) == True)[0]) / len(b_acc)\n",
    "number_of_falses = len(np.where(np.asarray(b_acc) == False)[0])/ len(b_acc)"
   ]
  },
  {
   "cell_type": "code",
   "execution_count": null,
   "metadata": {},
   "outputs": [],
   "source": [
    "print(scipy.stats.chisquare([number_of_trues,number_of_falses],[0.5,0.5]))"
   ]
  },
  {
   "cell_type": "code",
   "execution_count": null,
   "metadata": {},
   "outputs": [],
   "source": [
    "true_mu = .50\n",
    "print(np.mean(b_acc))\n",
    "onesample_results = scipy.stats.ttest_1samp([np.mean(b_acc),np.mean(e_b_acc)], true_mu)\n",
    "print(\"binary accuracy: \", onesample_results)"
   ]
  },
  {
   "cell_type": "code",
   "execution_count": null,
   "metadata": {},
   "outputs": [],
   "source": [
    "number_of_falses"
   ]
  },
  {
   "cell_type": "code",
   "execution_count": null,
   "metadata": {},
   "outputs": [],
   "source": [
    "dists = cosine_dists\n",
    "\n",
    "nn_index = np.argmin(dists,axis=1)\n",
    "accuracy_on_test = np.mean(nn_index == np.argmax(np.eye(len(target[model])),axis=1))"
   ]
  },
  {
   "cell_type": "code",
   "execution_count": null,
   "metadata": {},
   "outputs": [],
   "source": [
    "dists"
   ]
  },
  {
   "cell_type": "code",
   "execution_count": null,
   "metadata": {},
   "outputs": [],
   "source": [
    "predicted['glove_10'] = np.load(\"../log_root_cart_sub1/subject_1/word2brain/glove_linear/10/L2_DropIn8H5_wt/predicted_output_\"+label+\".npy\")[0]\n",
    "target['glove_10'] = np.load(\"../log_root_cart_sub1/subject_1/word2brain/glove_linear/10/L2_DropIn8H5_wt/target_output_\"+label+\".npy\")\n",
    "words['glove_10'] = np.load(\"../log_root_cart_sub1/subject_1/word2brain/glove_linear/10/L2_DropIn8H5_wt/words_\"+label+\".npy\")\n",
    "\n",
    "print(len(target['glove_10']))\n",
    "model = 'glove_10'\n",
    "cosine_dists = distance.cdist(predicted[model],target[model],'cosine')\n",
    "euc_dists =  distance.cdist(predicted[model],target[model],'euclidean')"
   ]
  },
  {
   "cell_type": "code",
   "execution_count": null,
   "metadata": {},
   "outputs": [],
   "source": [
    "len(words['glove_10'])"
   ]
  },
  {
   "cell_type": "code",
   "execution_count": null,
   "metadata": {},
   "outputs": [],
   "source": [
    "_,_,b_acc,e_b_acc, dic = eval(cosine_dists,euc_dists,model)"
   ]
  },
  {
   "cell_type": "code",
   "execution_count": null,
   "metadata": {},
   "outputs": [],
   "source": [
    "for i in np.arange(len(words[model])):\n",
    "    print(words[model][i],np.mean(dic[i]))"
   ]
  },
  {
   "cell_type": "code",
   "execution_count": 31,
   "metadata": {},
   "outputs": [
    {
     "name": "stdout",
     "output_type": "stream",
     "text": [
      "subject_1.mat\n"
     ]
    }
   ],
   "source": [
    "print('subject_'+str(subject_id)+'.mat')\n",
    "\n",
    "subject_file = scipy.io.loadmat('subject_'+str(subject_id)+'.mat') \n",
    "sub_id_index = 0\n",
    "#nTRs\n",
    "number_of_scans_index = 1\n",
    "#nvoxels\n",
    "number_of_voxels = 2\n",
    "x_dim_index = 3\n",
    "y_dim_index = 4\n",
    "z_dim_index = 5\n",
    "#colToCoord\n",
    "colToCoord_index = 6\n",
    "#coordToCol\n",
    "coordToCol_index = 7\n",
    "ROInumToName_index = 8\n",
    "ROInumsToName_3d_index = 9\n",
    "ROINames_index = 10\n",
    "voxel_size_index = 11\n",
    "#the map to the MNI space\n",
    "matrix_index = 12\n",
    "number_of_voxels = len(subject_file['meta'][0][0][ROInumToName_index][0])\n",
    "area_names_list = np.asarray(subject_file['meta'][0][0][ROINames_index][0])\n",
    "\n",
    "voxel_area_dic = {}\n",
    "for i in np.arange(number_of_voxels):\n",
    "    if subject_file['meta'][0][0][ROInumToName_index][0][i] not in voxel_area_dic.keys():\n",
    "        voxel_area_dic[subject_file['meta'][0][0][ROInumToName_index][0][i]]=[]\n",
    "        \n",
    "    voxel_area_dic[subject_file['meta'][0][0][ROInumToName_index][0][i]].append(i)"
   ]
  },
  {
   "cell_type": "code",
   "execution_count": 32,
   "metadata": {},
   "outputs": [
    {
     "name": "stdout",
     "output_type": "stream",
     "text": [
      "glove_10\n",
      "contextual_01\n"
     ]
    }
   ],
   "source": [
    "\n",
    "\n",
    "area_wise_mse = {}\n",
    "whole_accuracy = {}\n",
    "for model in predicted.keys():\n",
    "    print(model)\n",
    "    area_wise_mse[model] = {}\n",
    "    dist_sum = 0\n",
    "    \n",
    "    whole_accuracy[model] = np.mean(explained_variances[model])\n",
    "    for key in voxel_area_dic.keys():\n",
    "        #print(\"area name:\", subject_file['meta'][0][0][ROINames_index][0][key][0])\n",
    "        #print(\"number of voxels:\",len(voxel_area_dic[key]))\n",
    "        #mse_vector = np.sum(((predicted[model][:,voxel_area_dic[key]] - target[model][:,voxel_area_dic[key]] ) ** 2),axis=1)\n",
    "        #mse_vector = cosine_dists.diagonal()\n",
    "        #dist_sum += np.sum(mse_vector) \n",
    "        area_wise_mse[model][subject_file['meta'][0][0][ROINames_index][0][key][0]] = \\\n",
    "                                                np.mean(explained_variances[model][voxel_area_dic[key]])\n",
    "        \n",
    "        \n",
    "        "
   ]
  },
  {
   "cell_type": "code",
   "execution_count": 33,
   "metadata": {},
   "outputs": [
    {
     "name": "stdout",
     "output_type": "stream",
     "text": [
      "glove_10\n",
      "Pallidum_R -0.005854014475269066 Thalamus_L -0.0071022589244956425 Putamen_R -0.009325117990748706\n",
      "Caudate_R -0.00950910602329092 Pallidum_L -0.01132803951175081 Thalamus_R -0.011340253785132915\n",
      "-0.022335840375149903\n",
      "-0.023592206012628666\n",
      "contextual_01\n",
      "Frontal_Inf_Oper_L 0.08541907231604487 Rectus_L 0.07795482941133033 Frontal_Mid_L 0.06411180195708045\n",
      "Frontal_Med_Orb_L 0.06331493840271567 Rolandic_Oper_L 0.0629579374205156 Temporal_Mid_L 0.057507376213153535\n",
      "-0.0034187536405778404\n",
      "-0.009012451649176356\n"
     ]
    }
   ],
   "source": [
    "for model in area_wise_mse.keys():\n",
    "    print(model)\n",
    "    values = []\n",
    "    areas = []\n",
    "    for area in area_wise_mse[model].keys():\n",
    "        #print(\"%s,%f\" %(area,area_wise_mse[model][area]))\n",
    "        values.append(area_wise_mse[model][area])\n",
    "        areas.append(area)\n",
    "    ind = np.argsort(values)\n",
    "    print(areas[ind[-1]],values[ind[-1]], areas[ind[-2]],values[ind[-2]],areas[ind[-3]],values[ind[-3]])\n",
    "    print(areas[ind[-4]],values[ind[-4]], areas[ind[-5]],values[ind[-5]],areas[ind[-6]],values[ind[-6]])\n",
    "    print(np.mean(values))\n",
    "    print(whole_accuracy[model])"
   ]
  },
  {
   "cell_type": "code",
   "execution_count": 38,
   "metadata": {},
   "outputs": [
    {
     "name": "stdout",
     "output_type": "stream",
     "text": [
      "[47 63 70 61 34 81 72 45 24 60 35 79 87 13 46 48 20 22 52 49 44 82 29 64\n",
      " 32 88 16 84 68 66 71 51 17 50 67 23 85 77 59 80 89 26 65 38 11 25 42 73\n",
      " 30  8 86 74 53 83  7 36  4  0 76 78  3  1 39  2 19 69 12 54 55  5 28 40\n",
      " 56  9 10 37 75 27 33 57 58 14 18 62  6 15 41 31 43 21]\n"
     ]
    },
    {
     "data": {
      "image/png": "[encoded data removed]",
      "text/plain": [
       "<Figure size 2880x216 with 1 Axes>"
      ]
     },
     "metadata": {},
     "output_type": "display_data"
    }
   ],
   "source": [
    "import numpy as np\n",
    "import matplotlib.pyplot as plt\n",
    "\n",
    "values = list(area_wise_mse['contextual_01'].values())\n",
    "\n",
    "sorted_ind = np.argsort(values)\n",
    "print(sorted_ind)\n",
    "N = len(area_wise_mse['contextual_01'].keys())\n",
    "\n",
    "ind = np.arange(0,N*3,3)  # the x locations for the groups\n",
    "width = 0.5       # the width of the bars\n",
    "\n",
    "fig, ax = plt.subplots(figsize=(40,3))\n",
    "rects1 = ax.bar(ind,np.asarray(list(area_wise_mse['glove_10'].values()))[sorted_ind], width, color='green',align='center')\n",
    "rects4 = ax.bar(ind+0.5*3,np.asarray(list(area_wise_mse['contextual_01'].values()))[sorted_ind], width, color='red',align='center')\n",
    "\n",
    "                    \n",
    "# add some text for labels, title and axes ticks\n",
    "ax.set_ylabel('MSE')\n",
    "ax.set_xticks(ind)\n",
    "ax.set_xticklabels(np.asarray(list(area_wise_mse['glove_10'].keys()))[sorted_ind],rotation='vertical')\n",
    "\n",
    "ax.legend((rects1,rects4),([\"glove_10\",\"contextual_01\"]))\n",
    "plt.show()"
   ]
  },
  {
   "cell_type": "code",
   "execution_count": null,
   "metadata": {},
   "outputs": [],
   "source": []
  }
 ],
 "metadata": {
  "anaconda-cloud": {},
  "kernelspec": {
   "display_name": "Python [default]",
   "language": "python",
   "name": "python3"
  },
  "language_info": {
   "codemirror_mode": {
    "name": "ipython",
    "version": 3
   },
   "file_extension": ".py",
   "mimetype": "text/x-python",
   "name": "python",
   "nbconvert_exporter": "python",
   "pygments_lexer": "ipython3",
   "version": "3.6.5"
  },
  "latex_envs": {
   "bibliofile": "biblio.bib",
   "cite_by": "apalike",
   "current_citInitial": 1,
   "eqLabelWithNumbers": true,
   "eqNumInitial": 0
  }
 },
 "nbformat": 4,
 "nbformat_minor": 2
}
