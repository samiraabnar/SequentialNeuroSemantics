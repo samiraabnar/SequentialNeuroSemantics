{
 "cells": [
  {
   "cell_type": "code",
   "execution_count": null,
   "metadata": {
    "collapsed": true
   },
   "outputs": [],
   "source": [
    "import numpy as np\n",
    "import string \n",
    "import scipy.io\n",
    "from sklearn.metrics import mean_squared_error\n",
    "from scipy.spatial import distance\n",
    "import itertools\n",
    "\n",
    "def eval(dists,e_dists,model):\n",
    "    nn_index = np.argmin(dists,axis=1)\n",
    "    accuracy_on_test = np.mean(nn_index == np.argmax(np.eye(len(target[model])),axis=1))\n",
    "\n",
    "\n",
    "    b_acc = []\n",
    "    e_b_acc = []\n",
    "    for i,j in itertools.combinations(np.arange(len(target[model])), 2):\n",
    "        right_match = dists[i,i] + dists[j,j]\n",
    "        wrong_match = dists[i,j] + dists[j,i]\n",
    "        b_acc.append(right_match < wrong_match)\n",
    "\n",
    "        e_right_match = e_dists[i,i] + e_dists[j,j]\n",
    "        e_wrong_match = e_dists[i,j] + e_dists[j,i]\n",
    "        e_b_acc.append(e_right_match < e_wrong_match)\n",
    "\n",
    "    #print(\"binary accuracy: \", np.mean(b_acc),\" \", np.mean(e_b_acc))\n",
    "    return np.mean(b_acc),np.mean(e_b_acc)\n",
    "    \n",
    "\n",
    "subject_id = \"1\""
   ]
  },
  {
   "cell_type": "code",
   "execution_count": null,
   "metadata": {
    "collapsed": true
   },
   "outputs": [],
   "source": [
    "subject_file = scipy.io.loadmat('subject_'+subject_id+'.mat') "
   ]
  },
  {
   "cell_type": "code",
   "execution_count": 3,
   "metadata": {
    "collapsed": true
   },
   "outputs": [],
   "source": [
    "sub_id_index = 0\n",
    "#nTRs\n",
    "number_of_scans_index = 1\n",
    "#nvoxels\n",
    "number_of_voxels = 2\n",
    "x_dim_index = 3\n",
    "y_dim_index = 4\n",
    "z_dim_index = 5\n",
    "#colToCoord\n",
    "colToCoord_index = 6\n",
    "#coordToCol\n",
    "coordToCol_index = 7\n",
    "ROInumToName_index = 8\n",
    "ROInumsToName_3d_index = 9\n",
    "ROINames_index = 10\n",
    "voxel_size_index = 11\n",
    "#the map to the MNI space\n",
    "matrix_index = 12"
   ]
  },
  {
   "cell_type": "code",
   "execution_count": 4,
   "metadata": {
    "collapsed": true
   },
   "outputs": [],
   "source": [
    "area_names_list = np.asarray(subject_file['meta'][0][0][ROINames_index][0])"
   ]
  },
  {
   "cell_type": "code",
   "execution_count": 5,
   "metadata": {
    "collapsed": true
   },
   "outputs": [],
   "source": [
    "len(subject_file['meta'][0][0][ROInumToName_index][0])\n",
    "number_of_voxels = len(subject_file['meta'][0][0][ROInumToName_index][0])"
   ]
  },
  {
   "cell_type": "code",
   "execution_count": 6,
   "metadata": {},
   "outputs": [
    {
     "data": {
      "text/plain": [
       "37913"
      ]
     },
     "execution_count": 6,
     "metadata": {},
     "output_type": "execute_result"
    }
   ],
   "source": [
    "area_names_list[subject_file['meta'][0][0][ROInumToName_index][0]]\n",
    "number_of_voxels"
   ]
  },
  {
   "cell_type": "code",
   "execution_count": 7,
   "metadata": {
    "collapsed": true
   },
   "outputs": [],
   "source": [
    "voxel_area_dic = {}\n",
    "for i in np.arange(number_of_voxels):\n",
    "    if subject_file['meta'][0][0][ROInumToName_index][0][i] not in voxel_area_dic.keys():\n",
    "        voxel_area_dic[subject_file['meta'][0][0][ROInumToName_index][0][i]]=[]\n",
    "        \n",
    "    voxel_area_dic[subject_file['meta'][0][0][ROInumToName_index][0][i]].append(i)\n",
    "    "
   ]
  },
  {
   "cell_type": "code",
   "execution_count": 8,
   "metadata": {},
   "outputs": [
    {
     "name": "stdout",
     "output_type": "stream",
     "text": [
      "area name: Temporal_Pole_Mid_L\n",
      "number of voxels: 1110\n",
      "area name: Cerebelum_Crus1_L\n",
      "number of voxels: 974\n",
      "area name: Temporal_Pole_Sup_L\n",
      "number of voxels: 813\n",
      "area name: Angular_L\n",
      "number of voxels: 572\n",
      "area name: Parietal_Sup_L\n",
      "number of voxels: 765\n",
      "area name: Supp_Motor_Area_L\n",
      "number of voxels: 360\n",
      "area name: Temporal_Mid_L\n",
      "number of voxels: 348\n",
      "area name: Precuneus_L\n",
      "number of voxels: 505\n",
      "area name: Temporal_Sup_L\n",
      "number of voxels: 68\n",
      "area name: Frontal_Sup_L\n",
      "number of voxels: 654\n",
      "area name: Frontal_Inf_Tri_L\n",
      "number of voxels: 302\n",
      "area name: SupraMarginal_L\n",
      "number of voxels: 320\n",
      "area name: Temporal_Inf_L\n",
      "number of voxels: 254\n",
      "area name: Occipital_Inf_L\n",
      "number of voxels: 642\n",
      "area name: Frontal_Inf_Orb_L\n",
      "number of voxels: 302\n",
      "area name: Rolandic_Oper_L\n",
      "number of voxels: 441\n",
      "area name: Fusiform_L\n",
      "number of voxels: 235\n",
      "area name: Postcentral_L\n",
      "number of voxels: 688\n",
      "area name: Frontal_Mid_Orb_L\n",
      "number of voxels: 637\n",
      "area name: Cingulum_Ant_L\n",
      "number of voxels: 516\n",
      "area name: Parietal_Inf_L\n",
      "number of voxels: 376\n",
      "area name: Frontal_Inf_Oper_L\n",
      "number of voxels: 197\n",
      "area name: Occipital_Sup_L\n",
      "number of voxels: 651\n",
      "area name: ParaHippocampal_L\n",
      "number of voxels: 274\n",
      "area name: Occipital_Mid_L\n",
      "number of voxels: 407\n",
      "area name: Amygdala_L\n",
      "number of voxels: 339\n",
      "area name: Pallidum_L\n",
      "number of voxels: 308\n",
      "area name: Frontal_Sup_Orb_L\n",
      "number of voxels: 527\n",
      "area name: Calcarine_L\n",
      "number of voxels: 71\n",
      "area name: Cuneus_L\n",
      "number of voxels: 503\n",
      "area name: Thalamus_L\n",
      "number of voxels: 91\n",
      "area name: Frontal_Mid_L\n",
      "number of voxels: 232\n",
      "area name: Paracentral_Lobule_L\n",
      "number of voxels: 810\n",
      "area name: Frontal_Sup_Medial_L\n",
      "number of voxels: 63\n",
      "area name: Lingual_L\n",
      "number of voxels: 435\n",
      "area name: Heschl_L\n",
      "number of voxels: 252\n",
      "area name: Putamen_L\n",
      "number of voxels: 271\n",
      "area name: Insula_L\n",
      "number of voxels: 210\n",
      "area name: Cingulum_Post_L\n",
      "number of voxels: 647\n",
      "area name: Olfactory_L\n",
      "number of voxels: 474\n",
      "area name: Cingulum_Mid_L\n",
      "number of voxels: 352\n",
      "area name: Frontal_Med_Orb_L\n",
      "number of voxels: 347\n",
      "area name: Caudate_L\n",
      "number of voxels: 150\n",
      "area name: Rectus_L\n",
      "number of voxels: 190\n",
      "area name: Hippocampus_L\n",
      "number of voxels: 99\n",
      "area name: Calcarine_R\n",
      "number of voxels: 401\n",
      "area name: Cuneus_R\n",
      "number of voxels: 361\n",
      "area name: Lingual_R\n",
      "number of voxels: 512\n",
      "area name: Precuneus_R\n",
      "number of voxels: 753\n",
      "area name: Cingulum_Post_R\n",
      "number of voxels: 115\n",
      "area name: Cingulum_Mid_R\n",
      "number of voxels: 511\n",
      "area name: Paracentral_Lobule_R\n",
      "number of voxels: 204\n",
      "area name: Thalamus_R\n",
      "number of voxels: 240\n",
      "area name: Supp_Motor_Area_R\n",
      "number of voxels: 388\n",
      "area name: Cingulum_Ant_R\n",
      "number of voxels: 291\n",
      "area name: Olfactory_R\n",
      "number of voxels: 72\n",
      "area name: Rectus_R\n",
      "number of voxels: 182\n",
      "area name: Frontal_Sup_Medial_R\n",
      "number of voxels: 353\n",
      "area name: Frontal_Med_Orb_R\n",
      "number of voxels: 106\n",
      "area name: Caudate_R\n",
      "number of voxels: 223\n",
      "area name: Occipital_Sup_R\n",
      "number of voxels: 395\n",
      "area name: Parietal_Sup_R\n",
      "number of voxels: 442\n",
      "area name: Frontal_Sup_Orb_R\n",
      "number of voxels: 222\n",
      "area name: Occipital_Mid_R\n",
      "number of voxels: 903\n",
      "area name: Hippocampus_R\n",
      "number of voxels: 273\n",
      "area name: ParaHippocampal_R\n",
      "number of voxels: 248\n",
      "area name: Amygdala_R\n",
      "number of voxels: 68\n",
      "area name: Pallidum_R\n",
      "number of voxels: 83\n",
      "area name: Putamen_R\n",
      "number of voxels: 302\n",
      "area name: Frontal_Sup_R\n",
      "number of voxels: 544\n",
      "area name: Occipital_Inf_R\n",
      "number of voxels: 266\n",
      "area name: Postcentral_R\n",
      "number of voxels: 944\n",
      "area name: Fusiform_R\n",
      "number of voxels: 641\n",
      "area name: Precentral_R\n",
      "number of voxels: 849\n",
      "area name: Frontal_Inf_Orb_R\n",
      "number of voxels: 513\n",
      "area name: Frontal_Mid_Orb_R\n",
      "number of voxels: 232\n",
      "area name: Temporal_Pole_Mid_R\n",
      "number of voxels: 198\n",
      "area name: Temporal_Pole_Sup_R\n",
      "number of voxels: 370\n",
      "area name: Frontal_Mid_R\n",
      "number of voxels: 864\n",
      "area name: Parietal_Inf_R\n",
      "number of voxels: 714\n",
      "area name: Insula_R\n",
      "number of voxels: 550\n",
      "area name: Angular_R\n",
      "number of voxels: 340\n",
      "area name: Temporal_Inf_R\n",
      "number of voxels: 890\n",
      "area name: Frontal_Inf_Tri_R\n",
      "number of voxels: 630\n",
      "area name: Heschl_R\n",
      "number of voxels: 59\n",
      "area name: Rolandic_Oper_R\n",
      "number of voxels: 274\n",
      "area name: Frontal_Inf_Oper_R\n",
      "number of voxels: 281\n",
      "area name: Temporal_Mid_R\n",
      "number of voxels: 1365\n",
      "area name: Temporal_Sup_R\n",
      "number of voxels: 587\n",
      "area name: SupraMarginal_R\n",
      "number of voxels: 372\n"
     ]
    }
   ],
   "source": [
    "for key in voxel_area_dic.keys():\n",
    "    print(\"area name:\", subject_file['meta'][0][0][ROINames_index][0][key][0])\n",
    "    print(\"number of voxels:\",len(voxel_area_dic[key]))\n",
    "    \n",
    "    "
   ]
  },
  {
   "cell_type": "code",
   "execution_count": 9,
   "metadata": {},
   "outputs": [
    {
     "data": {
      "text/plain": [
       "117"
      ]
     },
     "execution_count": 9,
     "metadata": {},
     "output_type": "execute_result"
    }
   ],
   "source": [
    "len(subject_file['meta'][0][0][ROINames_index][0])"
   ]
  },
  {
   "cell_type": "code",
   "execution_count": 22,
   "metadata": {},
   "outputs": [
    {
     "name": "stdout",
     "output_type": "stream",
     "text": [
      "(0.5571804394924172, 0.5516094088517487)\n",
      "(0.5333303060575788, 0.5377047195229013)\n",
      "(0.5332848969212606, 0.541897496442951)\n",
      "(0.7340538249629158, 0.7295280477098659)\n"
     ]
    }
   ],
   "source": [
    "predicted = {}\n",
    "target = {}\n",
    "\n",
    "label = \"test\"\n",
    "\n",
    "predicted['glove_10'] = np.load(\"../log_root_cart_sub1/subject_1/word2brain/glove_linear/10/L2_DropIn8H5_wt/predicted_output_\"+label+\".npy\")[0]\n",
    "target['glove_10'] = np.load(\"../log_root_cart_sub1/subject_1/word2brain/glove_linear/10/L2_DropIn8H5_wt/target_output_\"+label+\".npy\")\n",
    "\n",
    "model = 'glove_10'\n",
    "cosine_dists = distance.cdist(predicted[model],target[model],'cosine')\n",
    "euc_dists =  distance.cdist(predicted[model],target[model],'euclidean')\n",
    "\n",
    "\n",
    "predicted['glove'] = np.load(\"../log_root_cart_sub1/subject_1/word2brain/glove_linear/1/L2_DropIn8H5_wt/predicted_output_\"+label+\".npy\")[0]\n",
    "target['glove'] = np.load(\"../log_root_cart_sub1/subject_1/word2brain/glove_linear/1/L2_DropIn8H5_wt/target_output_\"+label+\".npy\")\n",
    "\n",
    "model = 'glove'\n",
    "cosine_dists = distance.cdist(predicted[model],target[model],'cosine')\n",
    "euc_dists =  distance.cdist(predicted[model],target[model],'euclidean')\n",
    "print(eval(cosine_dists,euc_dists,model))\n",
    "    \n",
    "predicted['char_word'] = np.load(\"../log_root_cart_sub1/subject_1/word2brain/char_word_linear/1/L2_DropIn7H5/predicted_output_\"+label+\".npy\")[0]\n",
    "target['char_word'] = np.load(\"../log_root_cart_sub1/subject_1/word2brain/char_word_linear/1/L2_DropIn7H5/target_output_\"+label+\".npy\")\n",
    "model = 'char_word'\n",
    "cosine_dists = distance.cdist(predicted[model],target[model],'cosine')\n",
    "euc_dists =  distance.cdist(predicted[model],target[model],'euclidean')\n",
    "print(eval(cosine_dists,euc_dists,model))\n",
    "\n",
    "predicted['word'] = np.load(\"../log_root_cart_sub1/subject_1/word2brain/word_linear/1/linear_map/predicted_output_\"+label+\".npy\")[0]\n",
    "target['word'] = np.load(\"../log_root_cart_sub1/subject_1/word2brain/word_linear/1/linear_map/target_output_\"+label+\".npy\")\n",
    "model = 'word'\n",
    "cosine_dists = distance.cdist(predicted[model],target[model],'cosine')\n",
    "euc_dists =  distance.cdist(predicted[model],target[model],'euclidean')\n",
    "print(eval(cosine_dists,euc_dists,model))\n",
    "\n",
    "predicted['contextual_01'] = np.load(\"../log_root_cart_sub1/word2brain/contextual_01_avg/intended/L2_DropIn8H5/predicted_output_\"+label+\".npy\")\n",
    "target['contextual_01'] = np.load(\"../log_root_cart_sub1/word2brain/contextual_01_avg/intended/L2_DropIn8H5/target_output_\"+label+\".npy\")\n",
    "model = 'contextual_01'\n",
    "cosine_dists = distance.cdist(predicted[model],target[model],'cosine')\n",
    "euc_dists =  distance.cdist(predicted[model],target[model],'euclidean')\n",
    "print(eval(cosine_dists,euc_dists,model))\n"
   ]
  },
  {
   "cell_type": "code",
   "execution_count": 23,
   "metadata": {},
   "outputs": [
    {
     "name": "stdout",
     "output_type": "stream",
     "text": [
      "glove\n",
      "char_word\n",
      "word\n",
      "contextual_01\n"
     ]
    }
   ],
   "source": [
    "area_wise_mse = {}\n",
    "whole_accuracy = {}\n",
    "for model in predicted.keys():\n",
    "    print(model)\n",
    "    area_wise_mse[model] = {}\n",
    "    dist_sum = 0\n",
    "    \n",
    "    cosine_dists = distance.cdist(predicted[model],target[model],'cosine')\n",
    "    euc_dists =  distance.cdist(predicted[model],target[model],'euclidean')\n",
    "    c_acc,e_acc = eval(cosine_dists,euc_dists,model)\n",
    "    whole_accuracy[model] = c_acc\n",
    "    for key in voxel_area_dic.keys():\n",
    "        #print(\"area name:\", subject_file['meta'][0][0][ROINames_index][0][key][0])\n",
    "        #print(\"number of voxels:\",len(voxel_area_dic[key]))\n",
    "        #mse_vector = np.sum(((predicted[model][:,voxel_area_dic[key]] - target[model][:,voxel_area_dic[key]] ) ** 2),axis=1)\n",
    "        cosine_dists = distance.cdist(predicted[model][:,voxel_area_dic[key]],target[model][:,voxel_area_dic[key]],'cosine')\n",
    "        euc_dists =  distance.cdist(predicted[model][:,voxel_area_dic[key]],target[model][:,voxel_area_dic[key]],'euclidean')\n",
    "        c_acc,e_acc = eval(cosine_dists,euc_dists,model)\n",
    "        #mse_vector = cosine_dists.diagonal()\n",
    "        #dist_sum += np.sum(mse_vector) \n",
    "        area_wise_mse[model][subject_file['meta'][0][0][ROINames_index][0][key][0]] = c_acc"
   ]
  },
  {
   "cell_type": "code",
   "execution_count": 28,
   "metadata": {},
   "outputs": [
    {
     "name": "stdout",
     "output_type": "stream",
     "text": [
      "glove\n",
      "Temporal_Pole_Sup_L 0.5690807799442897 Parietal_Sup_L 0.5615444134942742 Temporal_Pole_Mid_L 0.5586041473228103\n",
      "Frontal_Inf_Oper_L 0.558263695450325 Frontal_Inf_Orb_L 0.5574744661095636 Rolandic_Oper_L 0.556793562364593\n",
      "0.5266699336290794\n",
      "0.5571804394924172\n",
      "char_word\n",
      "Rolandic_Oper_R 0.555822964913874 Temporal_Pole_Sup_L 0.5550964187327824 Frontal_Inf_Oper_R 0.5451215451215451\n",
      "Precentral_R 0.5441376805013168 Supp_Motor_Area_L 0.5416099052462688 Parietal_Sup_L 0.5403233130505858\n",
      "0.5163718436445709\n",
      "0.5333303060575788\n",
      "word\n",
      "Precentral_R 0.5552175097629644 Frontal_Inf_Oper_R 0.5531286894923259 Rolandic_Oper_R 0.5486029122392759\n",
      "Parietal_Sup_L 0.5447885447885448 Temporal_Pole_Sup_L 0.5426694517603609 Paracentral_Lobule_R 0.5411860866406321\n",
      "0.5159095113640568\n",
      "0.5332848969212606\n",
      "contextual_01\n",
      "Rolandic_Oper_L 0.7394726485635577 Frontal_Sup_Orb_L 0.738685556867375 Temporal_Mid_L 0.7382314655041928\n",
      "Frontal_Inf_Orb_L 0.7327975055247783 Parietal_Sup_L 0.7278933188024097 Frontal_Mid_Orb_L 0.7271819090000908\n",
      "0.6318351681988046\n",
      "0.7340538249629158\n"
     ]
    }
   ],
   "source": [
    "for model in area_wise_mse.keys():\n",
    "    print(model)\n",
    "    values = []\n",
    "    areas = []\n",
    "    for area in area_wise_mse[model].keys():\n",
    "        #print(\"%s,%f\" %(area,area_wise_mse[model][area]))\n",
    "        values.append(area_wise_mse[model][area])\n",
    "        areas.append(area)\n",
    "    ind = np.argsort(values)\n",
    "    print(areas[ind[-1]],values[ind[-1]], areas[ind[-2]],values[ind[-2]],areas[ind[-3]],values[ind[-3]])\n",
    "    print(areas[ind[-4]],values[ind[-4]], areas[ind[-5]],values[ind[-5]],areas[ind[-6]],values[ind[-6]])\n",
    "    print(np.mean(values))\n",
    "    print(whole_accuracy[model])"
   ]
  },
  {
   "cell_type": "code",
   "execution_count": 27,
   "metadata": {},
   "outputs": [
    {
     "name": "stdout",
     "output_type": "stream",
     "text": [
      "[63 70 81 47 45 46 60 34 61 79 87 83 29 67 49 48 52 24 89 44 35 68 13 88\n",
      " 86 32 16 22  8 77 84 30 80 59 74 82 42 66 72 20 71 11  3 26 78 23  0 58\n",
      " 55 85 36 64 75 17 50 54 53 76  2 28 69 40  7 56 33 37  1 25 43 57 31 65\n",
      " 62 39 10 19 73  5 41 12 51 21 38  9 18  4 14  6 27 15]\n"
     ]
    },
    {
     "data": {
      "image/png": "[encoded data removed]",
      "text/plain": [
       "<matplotlib.figure.Figure at 0x127f97be0>"
      ]
     },
     "metadata": {},
     "output_type": "display_data"
    }
   ],
   "source": [
    "import numpy as np\n",
    "import matplotlib.pyplot as plt\n",
    "\n",
    "values = list(area_wise_mse['char_word'].values())\n",
    "\n",
    "sorted_ind = np.argsort(values)\n",
    "print(sorted_ind)\n",
    "N = len(area_wise_mse['contextual_01'].keys())\n",
    "\n",
    "ind = np.arange(0,N*3,3)  # the x locations for the groups\n",
    "width = 0.5       # the width of the bars\n",
    "\n",
    "fig, ax = plt.subplots(figsize=(40,3))\n",
    "rects1 = ax.bar(ind,np.asarray(list(area_wise_mse['glove'].values()))[sorted_ind], width, color='green',align='center')\n",
    "rects2 = ax.bar(ind+0.5,np.asarray(list(area_wise_mse['word'].values()))[sorted_ind], width, color='orange',align='center')\n",
    "rects3 = ax.bar(ind+0.5*2,np.asarray(list(area_wise_mse['char_word'].values()))[sorted_ind], width, color='blue',align='center')\n",
    "rects4 = ax.bar(ind+0.5*3,np.asarray(list(area_wise_mse['contextual_01'].values()))[sorted_ind], width, color='red',align='center')\n",
    "\n",
    "                    \n",
    "# add some text for labels, title and axes ticks\n",
    "ax.set_ylabel('MSE')\n",
    "ax.set_xticks(ind)\n",
    "ax.set_xticklabels(np.asarray(list(area_wise_mse['glove'].keys()))[sorted_ind],rotation='vertical')\n",
    "\n",
    "ax.legend((rects1,rects2,rects3,rects4),([\"glove\",\"word\",\"char_word\",\"contextual_01\"]))\n",
    "plt.show()"
   ]
  },
  {
   "cell_type": "code",
   "execution_count": null,
   "metadata": {
    "collapsed": true
   },
   "outputs": [],
   "source": []
  }
 ],
 "metadata": {
  "anaconda-cloud": {},
  "kernelspec": {
   "display_name": "Python 3",
   "language": "python",
   "name": "python3"
  },
  "language_info": {
   "codemirror_mode": {
    "name": "ipython",
    "version": 3
   },
   "file_extension": ".py",
   "mimetype": "text/x-python",
   "name": "python",
   "nbconvert_exporter": "python",
   "pygments_lexer": "ipython3",
   "version": "3.6.5"
  },
  "latex_envs": {
   "bibliofile": "biblio.bib",
   "cite_by": "apalike",
   "current_citInitial": 1,
   "eqLabelWithNumbers": true,
   "eqNumInitial": 0
  }
 },
 "nbformat": 4,
 "nbformat_minor": 2
}
