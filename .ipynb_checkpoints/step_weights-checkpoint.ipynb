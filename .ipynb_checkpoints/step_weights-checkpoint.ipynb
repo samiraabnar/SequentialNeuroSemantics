{
 "cells": [
  {
   "cell_type": "code",
   "execution_count": 5,
   "metadata": {},
   "outputs": [],
   "source": [
    "import numpy as np\n",
    "import codecs\n",
    "import seaborn as sns\n",
    "import matplotlib as mpl\n",
    "import matplotlib.pyplot as plt\n",
    "from collections import OrderedDict"
   ]
  },
  {
   "cell_type": "code",
   "execution_count": 6,
   "metadata": {
    "collapsed": true
   },
   "outputs": [],
   "source": [
    "data = np.array([[-1.1761266,0,0,0,0,0,0,0,0,0],\n",
    "[-2.7876577,-2.6225553,0,0,0,0,0,0,0,0],\n",
    "[-2.9772794,-3.5352595,-2.5565717,0,0,0,0,0,0,0],\n",
    "[1.9452308,1.2830355,2.2686956,1.5182443,0,0,0,0,0,0],\n",
    "[1.931708,2.5054328,2.2938855,3.1861668,2.5915852,0,0,0,0,0],\n",
    "[0.9955385,2.181349,2.5334105,0.83293575,1.5034077,2.3196516,0,0,0,0],\n",
    "[-2.3435047,-2.4248781,-1.8263452,-1.6972994,-1.6993127,-1.6480559,-1.7256552,0,0,0],\n",
    "[2.5794191,3.3510144,3.6156049,2.9559867,3.3685584,2.8390121,2.670408,2.243399,0,0],\n",
    "[2.9162438,3.2942758,3.7578819,3.162676,3.4185743,3.0873845,3.293439,3.5876696,2.5392816,0],\n",
    "[-3.1971998,-4.333838,-4.5248938,-4.541983,-3.6625216,-3.810145,-3.9392462,-4.3301415,-3.8827882,-3.6203384]])\n",
    "\n",
    "def plot_for_me(dataset):\n",
    "    fig, ax = plt.subplots()\n",
    "    mask = dataset == 0\n",
    "    with sns.axes_style(\"white\"):\n",
    "        sns.heatmap(dataset,\n",
    "                ax = ax,\n",
    "        #           annot = True,\n",
    "        #           fmt = 'f',\n",
    "                mask=mask,\n",
    "                center=0.4, \n",
    "                xticklabels=['1','2','3','4','5','6','7','8', '9', '10'], \n",
    "                yticklabels=['1','2','3','4','5','6','7','8', '9', '10'], \n",
    "                linewidths=.5,\n",
    "        #             cbar=False,\n",
    "                cmap=\"YlGnBu\",\n",
    "                square=True,\n",
    "                       )\n",
    "        ax.set_xlabel(r'step', fontname='Courier new',fontsize=10)\n",
    "        ax.set_ylabel(r'size of the window', fontname='Courier new',fontsize=10)\n",
    "#         fig.savefig('step_weights.png', bbox_inches='tight', dpi=600)\n"
   ]
  },
  {
   "cell_type": "code",
   "execution_count": 7,
   "metadata": {},
   "outputs": [],
   "source": [
    "plot_for_me(data)"
   ]
  },
  {
   "cell_type": "code",
   "execution_count": 8,
   "metadata": {},
   "outputs": [],
   "source": [
    "dataset = np.abs(data)\n",
    "plot_for_me(dataset)"
   ]
  },
  {
   "cell_type": "code",
   "execution_count": 10,
   "metadata": {},
   "outputs": [
    {
     "name": "stdout",
     "output_type": "stream",
     "text": [
      "(10,)\n"
     ]
    }
   ],
   "source": [
    "dataset = np.abs(data)\n",
    "row_sums = dataset.sum(axis=1)\n",
    "print(row_sums.shape)\n",
    "dataset = dataset / row_sums\n",
    "plot_for_me(dataset)"
   ]
  },
  {
   "cell_type": "code",
   "execution_count": 32,
   "metadata": {},
   "outputs": [
    {
     "data": {
      "image/png": "[encoded data removed]",
      "text/plain": [
       "<matplotlib.figure.Figure at 0x11742e828>"
      ]
     },
     "metadata": {},
     "output_type": "display_data"
    }
   ],
   "source": [
    "dataset = np.abs(data)\n",
    "dataset = np.where(dataset > 0, np.exp(dataset), dataset)\n",
    "row_sums = dataset.sum(axis=1)\n",
    "dataset = dataset / row_sums[:, np.newaxis]\n",
    "plot_for_me(dataset)"
   ]
  },
  {
   "cell_type": "code",
   "execution_count": 61,
   "metadata": {},
   "outputs": [
    {
     "data": {
      "image/png": "[encoded data removed]",
      "text/plain": [
       "<matplotlib.figure.Figure at 0x1173d84e0>"
      ]
     },
     "metadata": {},
     "output_type": "display_data"
    }
   ],
   "source": [
    "max_ =1\n",
    "min_=0\n",
    "dataset = np.abs(data)\n",
    "row_mins = dataset.min(axis=1)\n",
    "row_maxs = dataset.max(axis=1)\n",
    "dataset += - (row_mins[:, np.newaxis])\n",
    "dataset /= (row_maxs[:, np.newaxis] - row_mins[:, np.newaxis])\n",
    "plot_for_me(dataset)"
   ]
  },
  {
   "cell_type": "code",
   "execution_count": null,
   "metadata": {
    "collapsed": true
   },
   "outputs": [],
   "source": []
  },
  {
   "cell_type": "code",
   "execution_count": null,
   "metadata": {
    "collapsed": true
   },
   "outputs": [],
   "source": []
  }
 ],
 "metadata": {
  "anaconda-cloud": {},
  "kernelspec": {
   "display_name": "Python [default]",
   "language": "python",
   "name": "python3"
  },
  "latex_envs": {
   "bibliofile": "biblio.bib",
   "cite_by": "apalike",
   "current_citInitial": 1,
   "eqLabelWithNumbers": true,
   "eqNumInitial": 0
  }
 },
 "nbformat": 4,
 "nbformat_minor": 2
}
