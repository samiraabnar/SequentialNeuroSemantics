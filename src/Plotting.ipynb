{
 "cells": [
  {
   "cell_type": "code",
   "execution_count": 15,
   "metadata": {
    "collapsed": true
   },
   "outputs": [],
   "source": [
    "import matplotlib.pyplot as plt\n",
    "import numpy as np"
   ]
  },
  {
   "cell_type": "code",
   "execution_count": 36,
   "metadata": {},
   "outputs": [
    {
     "name": "stdout",
     "output_type": "stream",
     "text": [
      "Hlloooo\n"
     ]
    }
   ],
   "source": [
    "# Performance Plot\n",
    "\n",
    "#extract accuracies from the outputs:\n",
    "\n",
    "\n",
    "file_name = \"../word2brain_glove_primary_results\"\n",
    "with open(file_name,'r') as fin:\n",
    "    all_lines = fin.readlines()\n",
    "\n",
    "c_accs = []\n",
    "e_accs = []\n",
    "for line in all_lines:\n",
    "    if line.startswith(\"binary accuracy:\"):\n",
    "        parts = line.split()\n",
    "        c_accs.append(parts[2])\n",
    "        e_accs.append(parts[3])\n",
    "        \n",
    "print(\"Hlloooo\")\n",
    "    "
   ]
  },
  {
   "cell_type": "code",
   "execution_count": 24,
   "metadata": {},
   "outputs": [],
   "source": [
    "test_indexes = np.arange(0,len(c_accs),2)\n",
    "train_indexes = np.arange(1,len(c_accs),2)"
   ]
  },
  {
   "cell_type": "code",
   "execution_count": 25,
   "metadata": {},
   "outputs": [],
   "source": [
    "test_c_accs = np.asarray(c_accs)[test_indexes]\n",
    "test_e_accs = np.asarray(e_accs)[test_indexes]"
   ]
  },
  {
   "cell_type": "code",
   "execution_count": 26,
   "metadata": {},
   "outputs": [],
   "source": [
    "train_c_accs = np.asarray(c_accs)[train_indexes]\n",
    "train_e_accs = np.asarray(e_accs)[train_indexes]"
   ]
  },
  {
   "cell_type": "code",
   "execution_count": 33,
   "metadata": {},
   "outputs": [
    {
     "data": {
      "image/png": "[encoded data removed]",
      "text/plain": [
       "<matplotlib.figure.Figure at 0x104bc8f28>"
      ]
     },
     "metadata": {},
     "output_type": "display_data"
    }
   ],
   "source": [
    "plt.plot(np.arange(len(test_c_accs)),test_c_accs, '.',np.arange(len(train_c_accs)),train_c_accs, '.')\n",
    "plt.show()"
   ]
  },
  {
   "cell_type": "code",
   "execution_count": null,
   "metadata": {
    "collapsed": true
   },
   "outputs": [],
   "source": []
  }
 ],
 "metadata": {
  "anaconda-cloud": {},
  "kernelspec": {
   "display_name": "Python [conda root]",
   "language": "python",
   "name": "conda-root-py"
  },
  "language_info": {
   "codemirror_mode": {
    "name": "ipython",
    "version": 3
   },
   "file_extension": ".py",
   "mimetype": "text/x-python",
   "name": "python",
   "nbconvert_exporter": "python",
   "pygments_lexer": "ipython3",
   "version": "3.6.2"
  },
  "latex_envs": {
   "bibliofile": "biblio.bib",
   "cite_by": "apalike",
   "current_citInitial": 1,
   "eqLabelWithNumbers": true,
   "eqNumInitial": 0
  }
 },
 "nbformat": 4,
 "nbformat_minor": 2
}
